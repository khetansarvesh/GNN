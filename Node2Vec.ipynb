{
 "cells": [
  {
   "cell_type": "markdown",
   "metadata": {
    "id": "8jTCV511PgOR"
   },
   "source": [
    "[![Open In Colab](https://colab.research.google.com/assets/colab-badge.svg)](https://colab.research.google.com/github/khetansarvesh/GNN/blob/main/DeepWalk.ipynb)"
   ]
  },
  {
   "cell_type": "code",
   "execution_count": null,
   "metadata": {},
   "outputs": [],
   "source": [
    "from torch_geometric.nn import Node2Vec\n",
    "import os.path as osp\n",
    "import torch\n",
    "from torch_geometric.datasets import Planetoid\n",
    "from tqdm.notebook import tqdm\n",
    "\n",
    "dataset = 'Cora'\n",
    "path = osp.join('.', 'data', dataset)\n",
    "dataset = Planetoid(path, dataset)  # dowload or load the Cora dataset\n",
    "data = dataset[0]\n",
    "device = 'cuda' if torch.cuda.is_available() else 'cpu'  # check if cuda is available to send the model and tensors to the GPU\n",
    "model = Node2Vec(data.edge_index, embedding_dim=128, walk_length=20,\n",
    "                 context_size=10, walks_per_node=10,\n",
    "                 num_negative_samples=1, p=1, q=1, sparse=True).to(device)\n",
    "\n",
    "loader = model.loader(batch_size=128, shuffle=True, num_workers=4)  # data loader to speed the train \n",
    "optimizer = torch.optim.SparseAdam(list(model.parameters()), lr=0.01)  # initzialize the optimizer \n",
    "\n",
    "\n",
    "def train():\n",
    "    model.train()  # put model in train model\n",
    "    total_loss = 0\n",
    "    for pos_rw, neg_rw in tqdm(loader):\n",
    "        optimizer.zero_grad()  # set the gradients to 0\n",
    "        loss = model.loss(pos_rw.to(device), neg_rw.to(device))  # compute the loss for the batch\n",
    "        loss.backward()\n",
    "        optimizer.step()  # optimize the parameters\n",
    "        total_loss += loss.item()\n",
    "    return total_loss / len(loader)\n",
    "\n",
    "\n",
    "for epoch in range(1, 100):\n",
    "    loss = train()\n",
    "    print(f'Epoch: {epoch:02d}, Loss: {loss:.4f}')\n",
    "\n",
    "all_vectors = \"\"\n",
    "for tensor in model(torch.arange(data.num_nodes, device=device)):\n",
    "    s = \"\\t\".join([str(value) for value in tensor.detach().cpu().numpy()])\n",
    "    all_vectors += s + \"\\n\"\n",
    "# save the vectors\n",
    "with open(\"vectors.txt\", \"w\") as f:\n",
    "    f.write(all_vectors)\n",
    "# save the labels\n",
    "with open(\"labels.txt\", \"w\") as f:\n",
    "    f.write(\"\\n\".join([str(label) for label in data.y.numpy()]))"
   ]
  }
 ],
 "metadata": {
  "accelerator": "GPU",
  "colab": {
   "collapsed_sections": [
    "h1233VS-CJ18",
    "xvcGmGqcCFqr",
    "j7VMr1LqB-ts",
    "ty0r2C3WEw00",
    "NEm0b3PCcgj7",
    "lhJYtenTje8-",
    "10F8WfeHxgWr",
    "vf_KuYZmnRgn",
    "plirCWZL3RAQ"
   ],
   "provenance": []
  },
  "kernelspec": {
   "display_name": "Python 3",
   "name": "python3"
  }
 },
 "nbformat": 4,
 "nbformat_minor": 0
}
