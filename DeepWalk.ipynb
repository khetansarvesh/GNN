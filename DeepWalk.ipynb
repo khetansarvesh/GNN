{
 "cells": [
  {
   "cell_type": "markdown",
   "metadata": {
    "id": "8jTCV511PgOR"
   },
   "source": [
    "[![Open In Colab](https://colab.research.google.com/assets/colab-badge.svg)](https://colab.research.google.com/github/khetansarvesh/GNN/blob/main/DeepWalk.ipynb)"
   ]
  },
  {
   "cell_type": "code",
   "execution_count": null,
   "metadata": {},
   "outputs": [],
   "source": [
    "import networkx as nx\n",
    "import random\n",
    "import numpy as np\n",
    "from typing import List\n",
    "from tqdm import tqdm\n",
    "from gensim.models.word2vec import Word2Vec"
   ]
  },
  {
   "cell_type": "code",
   "execution_count": null,
   "metadata": {},
   "outputs": [],
   "source": [
    "class DeepWalk:\n",
    "    def __init__(self, window_size: int, embedding_size: int, walk_length: int, walks_per_node: int):\n",
    "        \"\"\"\n",
    "        :param window_size: window size for the Word2Vec model\n",
    "        :param embedding_size: size of the final embedding\n",
    "        :param walk_length: length of the walk\n",
    "        :param walks_per_node: number of walks per node\n",
    "        \"\"\"\n",
    "        self.window_size = window_size\n",
    "        self.embedding_size = embedding_size\n",
    "        self.walk_length = walk_length\n",
    "        self.walk_per_node = walks_per_node\n",
    "\n",
    "    def random_walk(self, g: nx.Graph, start: str, use_probabilities: bool = False) -> List[str]:\n",
    "        \"\"\"\n",
    "        Generate a random walk starting on start\n",
    "        :param g: Graph\n",
    "        :param start: starting node for the random walk\n",
    "        :param use_probabilities: if True take into account the weights assigned to each edge to select the next candidate\n",
    "        :return:\n",
    "        \"\"\"\n",
    "        walk = [start]\n",
    "        for i in range(self.walk_length):\n",
    "            neighbours = g.neighbors(walk[i])\n",
    "            neighs = list(neighbours)\n",
    "            if use_probabilities:\n",
    "                probabilities = [g.get_edge_data(walk[i], neig)[\"weight\"] for neig in neighs]\n",
    "                sum_probabilities = sum(probabilities)\n",
    "                probabilities = list(map(lambda t: t / sum_probabilities, probabilities))\n",
    "                p = np.random.choice(neighs, p=probabilities)\n",
    "            else:\n",
    "                p = random.choice(neighs)\n",
    "            walk.append(p)\n",
    "        return walk\n",
    "\n",
    "    def get_walks(self, g: nx.Graph, use_probabilities: bool = False) -> List[List[str]]:\n",
    "        \"\"\"\n",
    "        Generate all the random walks\n",
    "        :param g: Graph\n",
    "        :param use_probabilities:\n",
    "        :return:\n",
    "        \"\"\"\n",
    "        random_walks = []\n",
    "        for _ in range(self.walk_per_node):\n",
    "            random_nodes = list(g.nodes)\n",
    "            random.shuffle(random_nodes)\n",
    "            for node in tqdm(random_nodes):\n",
    "                random_walks.append(self.random_walk(g=g, start=node, use_probabilities=use_probabilities))\n",
    "        return random_walks\n",
    "\n",
    "    def compute_embeddings(self, walks: List[List[str]]):\n",
    "        \"\"\"\n",
    "        Compute the node embeddings for the generated walks\n",
    "        :param walks: List of walks\n",
    "        :return:\n",
    "        \"\"\"\n",
    "        model = Word2Vec(sentences=walks, window=self.window_size, vector_size=self.embedding_size)\n",
    "        return model.wv\n"
   ]
  }
 ],
 "metadata": {
  "accelerator": "GPU",
  "colab": {
   "collapsed_sections": [
    "h1233VS-CJ18",
    "xvcGmGqcCFqr",
    "j7VMr1LqB-ts",
    "ty0r2C3WEw00",
    "NEm0b3PCcgj7",
    "lhJYtenTje8-",
    "10F8WfeHxgWr",
    "vf_KuYZmnRgn",
    "plirCWZL3RAQ"
   ],
   "provenance": []
  },
  "kernelspec": {
   "display_name": "Python 3",
   "name": "python3"
  }
 },
 "nbformat": 4,
 "nbformat_minor": 0
}
